{
 "cells": [
  {
   "cell_type": "code",
   "execution_count": 5,
   "metadata": {},
   "outputs": [],
   "source": [
    "import os, re\n",
    "import pandas as pd"
   ]
  },
  {
   "cell_type": "code",
   "execution_count": 6,
   "metadata": {},
   "outputs": [],
   "source": [
    "pop_order = \"\"\"1) NTH_SEA\n",
    "2) SCOTLAND\n",
    "3) IRELAND\n",
    "4) BBISCAY\n",
    "5) PORTUGAL\n",
    "6) ALGERIA\n",
    "7) MALAGA\n",
    "8) GULFLION\n",
    "9) NTH_THYR\n",
    "10) SARDINIA\n",
    "11) STH_THYR\n",
    "12) ADV_BANK\n",
    "13) MALT_BANK\n",
    "14) NTH_ADR\n",
    "15) STH_ADR\n",
    "16) NW_JON\n",
    "17) AEGEAN\n",
    "18) TURKEY\n",
    "19) CYPRUS\"\"\"\n",
    "\n",
    "pop_order = pop_order.split(\"\\n\")\n",
    "pop_order_list = list(map(lambda x:x.split(\" \")[1], pop_order))"
   ]
  },
  {
   "cell_type": "code",
   "execution_count": 7,
   "metadata": {},
   "outputs": [],
   "source": [
    "Atlantic = [\"NTH_SEA\", \"SCOTLAND\", \"IRELAND\", \"BBISCAY\", \"PORTUGAL\"]"
   ]
  },
  {
   "cell_type": "code",
   "execution_count": 8,
   "metadata": {},
   "outputs": [],
   "source": [
    "genepop_SNP_set = \"milano2013/Milano et al_Merluccius merluccius SNP data.txt\"\n",
    "with open(genepop_SNP_set, \"r\") as IN:\n",
    "    txt = IN.readlines()\n",
    "\n",
    "SNP_name = list(map(lambda x: x.rstrip(), txt[1:382]))"
   ]
  },
  {
   "cell_type": "code",
   "execution_count": 9,
   "metadata": {},
   "outputs": [],
   "source": [
    "pop_cnt = 0\n",
    "line_list = []\n",
    "for i in txt[382:]:\n",
    "    if i.rstrip() == \"pop\":\n",
    "        pop_cnt += 1\n",
    "        continue\n",
    "    \n",
    "    cur_pop = pop_order_list[pop_cnt-1]\n",
    "    \n",
    "    class_label = 0\n",
    "    if cur_pop in Atlantic:\n",
    "        class_label = 1\n",
    "\n",
    "    line = i.rstrip().split(r\" \")\n",
    "    line.insert(1, class_label)\n",
    "    line[0] = line[0].replace(\",\", \"\")\n",
    "    line_list.append(pd.Series(line).replace({\n",
    "        \"0101\": \"0\",\n",
    "        \"0102\": \"1\",\n",
    "        \"0201\": \"1\",\n",
    "        \"0202\": \"2\",\n",
    "        \"0000\": \"-9\"}))"
   ]
  },
  {
   "cell_type": "code",
   "execution_count": 11,
   "metadata": {},
   "outputs": [],
   "source": [
    "feature_table = pd.concat(line_list, axis=1).T"
   ]
  },
  {
   "cell_type": "code",
   "execution_count": 12,
   "metadata": {},
   "outputs": [],
   "source": [
    "col_name = [\"Sample_ID\", \"Class\"]\n",
    "col_name.extend(SNP_name)\n",
    "col_name_dict = dict(zip(list(feature_table.index), col_name))"
   ]
  },
  {
   "cell_type": "code",
   "execution_count": 13,
   "metadata": {},
   "outputs": [],
   "source": [
    "feature_table = feature_table.rename(col_name_dict, axis=1)"
   ]
  },
  {
   "cell_type": "code",
   "execution_count": 14,
   "metadata": {},
   "outputs": [
    {
     "data": {
      "text/html": [
       "<div>\n",
       "<style scoped>\n",
       "    .dataframe tbody tr th:only-of-type {\n",
       "        vertical-align: middle;\n",
       "    }\n",
       "\n",
       "    .dataframe tbody tr th {\n",
       "        vertical-align: top;\n",
       "    }\n",
       "\n",
       "    .dataframe thead th {\n",
       "        text-align: right;\n",
       "    }\n",
       "</style>\n",
       "<table border=\"1\" class=\"dataframe\">\n",
       "  <thead>\n",
       "    <tr style=\"text-align: right;\">\n",
       "      <th></th>\n",
       "      <th>Sample_ID</th>\n",
       "      <th>Class</th>\n",
       "      <th>1413_fpt</th>\n",
       "      <th>551_fpt</th>\n",
       "      <th>4228ms</th>\n",
       "      <th>3178_fpt</th>\n",
       "      <th>1270_fpt</th>\n",
       "      <th>3216ms</th>\n",
       "      <th>1794_fpt</th>\n",
       "      <th>1503_fpt</th>\n",
       "      <th>...</th>\n",
       "      <th>515_fpt</th>\n",
       "      <th>1631ms</th>\n",
       "      <th>1857_fpt</th>\n",
       "      <th>2579_fpt</th>\n",
       "      <th>1054_fpt</th>\n",
       "      <th>2902ms</th>\n",
       "      <th>1148ms</th>\n",
       "      <th>4449ms</th>\n",
       "      <th>1230ms</th>\n",
       "      <th>2985ms</th>\n",
       "    </tr>\n",
       "  </thead>\n",
       "  <tbody>\n",
       "    <tr>\n",
       "      <th>0</th>\n",
       "      <td>MM6493</td>\n",
       "      <td>1</td>\n",
       "      <td>0</td>\n",
       "      <td>0</td>\n",
       "      <td>2</td>\n",
       "      <td>1</td>\n",
       "      <td>0</td>\n",
       "      <td>2</td>\n",
       "      <td>1</td>\n",
       "      <td>2</td>\n",
       "      <td>...</td>\n",
       "      <td>0</td>\n",
       "      <td>1</td>\n",
       "      <td>1</td>\n",
       "      <td>0</td>\n",
       "      <td>1</td>\n",
       "      <td>0</td>\n",
       "      <td>2</td>\n",
       "      <td>1</td>\n",
       "      <td>2</td>\n",
       "      <td>1</td>\n",
       "    </tr>\n",
       "    <tr>\n",
       "      <th>1</th>\n",
       "      <td>MM6494</td>\n",
       "      <td>1</td>\n",
       "      <td>1</td>\n",
       "      <td>0</td>\n",
       "      <td>0</td>\n",
       "      <td>1</td>\n",
       "      <td>0</td>\n",
       "      <td>1</td>\n",
       "      <td>0</td>\n",
       "      <td>2</td>\n",
       "      <td>...</td>\n",
       "      <td>1</td>\n",
       "      <td>2</td>\n",
       "      <td>2</td>\n",
       "      <td>0</td>\n",
       "      <td>1</td>\n",
       "      <td>0</td>\n",
       "      <td>2</td>\n",
       "      <td>1</td>\n",
       "      <td>1</td>\n",
       "      <td>2</td>\n",
       "    </tr>\n",
       "    <tr>\n",
       "      <th>2</th>\n",
       "      <td>MM6495</td>\n",
       "      <td>1</td>\n",
       "      <td>1</td>\n",
       "      <td>0</td>\n",
       "      <td>0</td>\n",
       "      <td>1</td>\n",
       "      <td>0</td>\n",
       "      <td>2</td>\n",
       "      <td>1</td>\n",
       "      <td>2</td>\n",
       "      <td>...</td>\n",
       "      <td>1</td>\n",
       "      <td>1</td>\n",
       "      <td>2</td>\n",
       "      <td>0</td>\n",
       "      <td>2</td>\n",
       "      <td>0</td>\n",
       "      <td>2</td>\n",
       "      <td>0</td>\n",
       "      <td>1</td>\n",
       "      <td>2</td>\n",
       "    </tr>\n",
       "    <tr>\n",
       "      <th>3</th>\n",
       "      <td>MM6496</td>\n",
       "      <td>1</td>\n",
       "      <td>1</td>\n",
       "      <td>0</td>\n",
       "      <td>1</td>\n",
       "      <td>1</td>\n",
       "      <td>0</td>\n",
       "      <td>0</td>\n",
       "      <td>0</td>\n",
       "      <td>2</td>\n",
       "      <td>...</td>\n",
       "      <td>0</td>\n",
       "      <td>2</td>\n",
       "      <td>1</td>\n",
       "      <td>1</td>\n",
       "      <td>2</td>\n",
       "      <td>0</td>\n",
       "      <td>2</td>\n",
       "      <td>0</td>\n",
       "      <td>2</td>\n",
       "      <td>2</td>\n",
       "    </tr>\n",
       "    <tr>\n",
       "      <th>4</th>\n",
       "      <td>MM6497</td>\n",
       "      <td>1</td>\n",
       "      <td>1</td>\n",
       "      <td>0</td>\n",
       "      <td>0</td>\n",
       "      <td>1</td>\n",
       "      <td>0</td>\n",
       "      <td>1</td>\n",
       "      <td>0</td>\n",
       "      <td>0</td>\n",
       "      <td>...</td>\n",
       "      <td>1</td>\n",
       "      <td>2</td>\n",
       "      <td>1</td>\n",
       "      <td>0</td>\n",
       "      <td>1</td>\n",
       "      <td>0</td>\n",
       "      <td>2</td>\n",
       "      <td>1</td>\n",
       "      <td>2</td>\n",
       "      <td>1</td>\n",
       "    </tr>\n",
       "  </tbody>\n",
       "</table>\n",
       "<p>5 rows × 383 columns</p>\n",
       "</div>"
      ],
      "text/plain": [
       "  Sample_ID Class 1413_fpt 551_fpt 4228ms 3178_fpt 1270_fpt 3216ms 1794_fpt  \\\n",
       "0    MM6493     1        0       0      2        1        0      2        1   \n",
       "1    MM6494     1        1       0      0        1        0      1        0   \n",
       "2    MM6495     1        1       0      0        1        0      2        1   \n",
       "3    MM6496     1        1       0      1        1        0      0        0   \n",
       "4    MM6497     1        1       0      0        1        0      1        0   \n",
       "\n",
       "  1503_fpt  ... 515_fpt 1631ms 1857_fpt 2579_fpt 1054_fpt 2902ms 1148ms  \\\n",
       "0        2  ...       0      1        1        0        1      0      2   \n",
       "1        2  ...       1      2        2        0        1      0      2   \n",
       "2        2  ...       1      1        2        0        2      0      2   \n",
       "3        2  ...       0      2        1        1        2      0      2   \n",
       "4        0  ...       1      2        1        0        1      0      2   \n",
       "\n",
       "  4449ms 1230ms 2985ms  \n",
       "0      1      2      1  \n",
       "1      1      1      2  \n",
       "2      0      1      2  \n",
       "3      0      2      2  \n",
       "4      1      2      1  \n",
       "\n",
       "[5 rows x 383 columns]"
      ]
     },
     "execution_count": 14,
     "metadata": {},
     "output_type": "execute_result"
    }
   ],
   "source": [
    "feature_table.head()"
   ]
  },
  {
   "cell_type": "code",
   "execution_count": null,
   "metadata": {},
   "outputs": [],
   "source": [
    "feature_table.to_csv(\"milano2013.tsv\", sep=\"\\t\", header=True, index=False)"
   ]
  },
  {
   "cell_type": "code",
   "execution_count": 15,
   "metadata": {},
   "outputs": [
    {
     "data": {
      "text/plain": [
       "(850, 383)"
      ]
     },
     "execution_count": 15,
     "metadata": {},
     "output_type": "execute_result"
    }
   ],
   "source": [
    "feature_table.shape"
   ]
  },
  {
   "cell_type": "code",
   "execution_count": 16,
   "metadata": {},
   "outputs": [
    {
     "data": {
      "text/plain": [
       "0    607\n",
       "1    243\n",
       "Name: Class, dtype: int64"
      ]
     },
     "execution_count": 16,
     "metadata": {},
     "output_type": "execute_result"
    }
   ],
   "source": [
    "feature_table.Class.value_counts()"
   ]
  },
  {
   "cell_type": "code",
   "execution_count": 17,
   "metadata": {},
   "outputs": [
    {
     "data": {
      "text/plain": [
       "Index(['Sample_ID', 'Class', '1413_fpt', '551_fpt', '4228ms', '3178_fpt',\n",
       "       '1270_fpt', '3216ms', '1794_fpt', '1503_fpt',\n",
       "       ...\n",
       "       '515_fpt', '1631ms', '1857_fpt', '2579_fpt', '1054_fpt', '2902ms',\n",
       "       '1148ms', '4449ms', '1230ms', '2985ms'],\n",
       "      dtype='object', length=383)"
      ]
     },
     "execution_count": 17,
     "metadata": {},
     "output_type": "execute_result"
    }
   ],
   "source": [
    "feature_table.columns"
   ]
  },
  {
   "cell_type": "code",
   "execution_count": 19,
   "metadata": {},
   "outputs": [
    {
     "data": {
      "text/plain": [
       "383"
      ]
     },
     "execution_count": 19,
     "metadata": {},
     "output_type": "execute_result"
    }
   ],
   "source": [
    "len(pd.unique(feature_table.columns))"
   ]
  }
 ],
 "metadata": {
  "kernelspec": {
   "display_name": "Python 3",
   "language": "python",
   "name": "python3"
  },
  "language_info": {
   "codemirror_mode": {
    "name": "ipython",
    "version": 3
   },
   "file_extension": ".py",
   "mimetype": "text/x-python",
   "name": "python",
   "nbconvert_exporter": "python",
   "pygments_lexer": "ipython3",
   "version": "3.7.6"
  }
 },
 "nbformat": 4,
 "nbformat_minor": 4
}
