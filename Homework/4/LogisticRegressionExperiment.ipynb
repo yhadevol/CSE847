{
 "cells": [
  {
   "cell_type": "code",
   "execution_count": 163,
   "metadata": {},
   "outputs": [],
   "source": [
    "import numpy as np\n",
    "import matplotlib.pyplot as plt"
   ]
  },
  {
   "cell_type": "code",
   "execution_count": 164,
   "metadata": {},
   "outputs": [],
   "source": [
    "# load spam mail data and label\n",
    "data = \"spam_email/data.txt\"\n",
    "label = \"spam_email/labels.txt\"\n",
    "\n",
    "data_mat = np.genfromtxt(spam_email_data)\n",
    "label_mat = np.genfromtxt(spam_email_label).reshape(-1,1)"
   ]
  },
  {
   "cell_type": "code",
   "execution_count": 165,
   "metadata": {},
   "outputs": [],
   "source": [
    "# split data and label into training and test set\n",
    "x_train = data_mat[0:2000]\n",
    "y_train = label_mat[0:2000]\n",
    "x_test = data_mat[2000:4601]\n",
    "y_test = label_mat[2000:4601]"
   ]
  },
  {
   "cell_type": "code",
   "execution_count": 166,
   "metadata": {},
   "outputs": [],
   "source": [
    "# add bias to X\n",
    "addBias=np.ones([x_train.shape[0],1])\n",
    "x_train=np.append(addBias,x_train,axis=1)\n",
    "\n",
    "addBias=np.ones([x_test.shape[0],1])\n",
    "x_test=np.append(addBias,x_test,axis=1)"
   ]
  },
  {
   "cell_type": "code",
   "execution_count": 167,
   "metadata": {},
   "outputs": [],
   "source": [
    "# Train logistic regression model with Gradient descent, Class label is 0/1\n",
    "# X: input data\n",
    "# Y: Predicted class\n",
    "# epsilon: abort if change in weight is smaller than epsilon\n",
    "# maxiter: maximum iteration\n",
    "# learnRate: learning rate\n",
    "def Logistic_Train(X, Y, epsilon=1e-5, maxiter=1000, learnRate=0.01):\n",
    "\n",
    "    Weights=np.random.rand(X.shape[1]).reshape(-1,1) # intialize weight with random number\n",
    "    \n",
    "    m=X.shape[0]\n",
    "    \n",
    "    previous_Weights = np.copy(Weights)\n",
    "    \n",
    "    for i in range(1, maxiter*10):\n",
    "        predictions = sigmoid(np.matmul(X, Weights)) # prediced probability of data based on current weight \n",
    "         \n",
    "        Weights[0] = Weights[0]-(1/m)*learnRate*(np.sum(predictions-Y)) # update bias\n",
    "        \n",
    "        # update weight of other feature\n",
    "        for j in range(1,len(Weights)):\n",
    "            Weights[j] = Weights[j]-(1/m)*learnRate*(np.dot(X[:,j].T, (predictions-Y)))\n",
    "        \n",
    "        # abort if change in weight is smaller than epsilon\n",
    "        if np.mean(np.absolute(Weights-previous_Weights)) <= epsilon:\n",
    "            return(Weights)\n",
    "        \n",
    "        # abort if reach maximum iteration\n",
    "        if i == maxiter:\n",
    "            return(Weights)\n",
    "        \n",
    "        previous_Weights = np.copy(Weights) # update weight"
   ]
  },
  {
   "cell_type": "code",
   "execution_count": 168,
   "metadata": {},
   "outputs": [],
   "source": [
    "# Calculate accuracy of the model\n",
    "def Accuray(X, Y, Weights):\n",
    "    prediction = np.around(sigmoid(np.matmul(X, Weights)))\n",
    "    return prediction[prediction == Y].shape[0]/Y.shape[0]"
   ]
  },
  {
   "cell_type": "code",
   "execution_count": 169,
   "metadata": {},
   "outputs": [],
   "source": [
    "# sigmoid function\n",
    "def sigmoid(x):\n",
    "    return 1/(1+np.exp(-x))"
   ]
  },
  {
   "cell_type": "code",
   "execution_count": 170,
   "metadata": {},
   "outputs": [
    {
     "name": "stdout",
     "output_type": "stream",
     "text": [
      "n = 200, Accuray 0.8742791234140715\n",
      "n = 500, Accuray 0.8489042675893888\n",
      "n = 800, Accuray 0.8562091503267973\n",
      "n = 1000, Accuray 0.8323721645520954\n",
      "n = 1500, Accuray 0.8608227604767397\n",
      "n = 2000, Accuray 0.8508266051518647\n"
     ]
    }
   ],
   "source": [
    "# select first 200, 500, 800, 1000, 1500, 2000 row in data for training\n",
    "# and calculate accuracy based on trained model\n",
    "for n in [200, 500, 800, 1000, 1500, 2000]:\n",
    "    Weights = Logistic_Train(x_train[0:n], y_train[0:n])\n",
    "    accuray = Accuray(x_test, y_test, Weights)\n",
    "    print(\"n = %s, Accuray %s\" % (n, accuray))"
   ]
  }
 ],
 "metadata": {
  "kernelspec": {
   "display_name": "Python 3",
   "language": "python",
   "name": "python3"
  },
  "language_info": {
   "codemirror_mode": {
    "name": "ipython",
    "version": 3
   },
   "file_extension": ".py",
   "mimetype": "text/x-python",
   "name": "python",
   "nbconvert_exporter": "python",
   "pygments_lexer": "ipython3",
   "version": "3.7.6"
  }
 },
 "nbformat": 4,
 "nbformat_minor": 4
}
