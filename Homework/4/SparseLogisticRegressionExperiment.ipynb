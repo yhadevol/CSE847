{
 "cells": [
  {
   "cell_type": "code",
   "execution_count": 88,
   "metadata": {},
   "outputs": [],
   "source": [
    "import numpy as np\n",
    "from scipy import io\n",
    "from sklearn.linear_model import LogisticRegression\n",
    "from sklearn.preprocessing import scale\n",
    "from sklearn import metrics"
   ]
  },
  {
   "cell_type": "code",
   "execution_count": 89,
   "metadata": {},
   "outputs": [],
   "source": [
    "ad_data = \"alzheimers/ad_data.mat\"\n",
    "feature = \"alzheimers/feature_name.mat\"\n",
    "\n",
    "ad_data_mat = io.loadmat(ad_data)\n",
    "feature_mat = io.loadmat(feature)"
   ]
  },
  {
   "cell_type": "code",
   "execution_count": 90,
   "metadata": {},
   "outputs": [],
   "source": [
    "x_train = ad_data_mat[\"X_train\"]\n",
    "y_train = ad_data_mat[\"y_train\"].reshape(-1)\n",
    "x_test = ad_data_mat[\"X_test\"]\n",
    "y_test = ad_data_mat[\"y_test\"].reshape(-1)"
   ]
  },
  {
   "cell_type": "code",
   "execution_count": 91,
   "metadata": {},
   "outputs": [],
   "source": [
    "x_train_scaled=scale(x_train, axis=0, with_mean=True, with_std=True, copy=True)\n",
    "x_test_scaled=scale(x_test, axis=0, with_mean=True, with_std=True, copy=True)"
   ]
  },
  {
   "cell_type": "code",
   "execution_count": 92,
   "metadata": {},
   "outputs": [
    {
     "name": "stdout",
     "output_type": "stream",
     "text": [
      "Number of selected feature: 39, Regularization parameter: 0.001, AUC: 0.6478468899521531\n",
      "Number of selected feature: 37, Regularization parameter: 0.01, AUC: 0.6363636363636365\n",
      "Number of selected feature: 38, Regularization parameter: 0.1, AUC: 0.6411483253588517\n",
      "Number of selected feature: 38, Regularization parameter: 0.2, AUC: 0.6660287081339713\n",
      "Number of selected feature: 38, Regularization parameter: 0.3, AUC: 0.6717703349282296\n",
      "Number of selected feature: 35, Regularization parameter: 0.4, AUC: 0.6736842105263158\n",
      "Number of selected feature: 33, Regularization parameter: 0.5, AUC: 0.6593301435406699\n",
      "Number of selected feature: 33, Regularization parameter: 0.6, AUC: 0.6478468899521531\n",
      "Number of selected feature: 31, Regularization parameter: 0.7, AUC: 0.6382775119617224\n",
      "Number of selected feature: 29, Regularization parameter: 0.8, AUC: 0.631578947368421\n",
      "Number of selected feature: 28, Regularization parameter: 0.9, AUC: 0.6220095693779903\n",
      "Number of selected feature: 26, Regularization parameter: 1, AUC: 0.615311004784689\n"
     ]
    }
   ],
   "source": [
    "for par in [0.001, 0.01, 0.1, 0.2, 0.3, 0.4, 0.5, 0.6, 0.7, 0.8, 0.9, 1]:\n",
    "    logisticRegr = LogisticRegression(solver=\"liblinear\", penalty='l1', C=1/par, max_iter=5000, tol=1e-6)\n",
    "    logisticRegr.fit(x_train_scaled, y_train)\n",
    "    prediction = logisticRegr.predict_proba(x_test_scaled)[:,1]\n",
    "    \n",
    "    positive_weight_num = logisticRegr.coef_[logisticRegr.coef_ > 0].shape[0]\n",
    "    \n",
    "    fpr, tpr, thresholds = metrics.roc_curve(y_test, prediction, pos_label=1)\n",
    "    auc = metrics.auc(fpr, tpr)\n",
    "    \n",
    "    print(\"Number of selected feature: %s, Regularization parameter: %s, AUC: %s\"%(positive_weight_num, par, auc))"
   ]
  }
 ],
 "metadata": {
  "kernelspec": {
   "display_name": "Python 3",
   "language": "python",
   "name": "python3"
  },
  "language_info": {
   "codemirror_mode": {
    "name": "ipython",
    "version": 3
   },
   "file_extension": ".py",
   "mimetype": "text/x-python",
   "name": "python",
   "nbconvert_exporter": "python",
   "pygments_lexer": "ipython3",
   "version": "3.7.6"
  }
 },
 "nbformat": 4,
 "nbformat_minor": 4
}
