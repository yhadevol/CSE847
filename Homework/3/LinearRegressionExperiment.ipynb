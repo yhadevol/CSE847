{
 "cells": [
  {
   "cell_type": "code",
   "execution_count": 108,
   "metadata": {},
   "outputs": [],
   "source": [
    "from scipy.io import loadmat\n",
    "import numpy as np\n",
    "from sklearn.preprocessing import scale\n",
    "from sklearn.model_selection import KFold\n",
    "import matplotlib.pyplot as plt\n",
    "import math"
   ]
  },
  {
   "cell_type": "code",
   "execution_count": 23,
   "metadata": {},
   "outputs": [],
   "source": [
    "diabetes_mat = loadmat('diabetes.mat')\n",
    "x_train = diabetes_mat['x_train']\n",
    "y_train = diabetes_mat['y_train']\n",
    "x_test = diabetes_mat['x_test']\n",
    "y_test = diabetes_mat['y_test']"
   ]
  },
  {
   "cell_type": "code",
   "execution_count": 61,
   "metadata": {},
   "outputs": [],
   "source": [
    "def GradDesc(X,Y,learnRate=0.01,epochs=500,reg=0):\n",
    "\n",
    "    Weights=np.random.rand(X.shape[1])\n",
    "    Weights=np.array(Weights)\n",
    "    Weights=Weights.reshape(-1,1)\n",
    "    \n",
    "    m=X.shape[0]\n",
    "    \n",
    "    for i in range(epochs):\n",
    "        \n",
    "        predictions=np.matmul(X, Weights)\n",
    "                \n",
    "        Weights[0]=Weights[0]-(1/m)*learnRate*(np.matmul(X[:,0].transpose(),predictions-Y))\n",
    "        \n",
    "        for j in range(1,len(Weights)):\n",
    "            Weights[j]=Weights[j]-(1/m)*learnRate*(np.matmul(X[:,j].transpose(),predictions-Y)+sum(np.dot(Weights[j],reg)))\n",
    "            \n",
    "    return(Weights)"
   ]
  },
  {
   "cell_type": "code",
   "execution_count": 71,
   "metadata": {},
   "outputs": [],
   "source": [
    "def MSE(Y, X, Weights):\n",
    "    Loss = 1/X.shape[0]*((Y-np.matmul(X, Weights))**2).sum()\n",
    "    \n",
    "    return Loss"
   ]
  },
  {
   "cell_type": "code",
   "execution_count": 62,
   "metadata": {},
   "outputs": [],
   "source": [
    "x_train_scaled=scale(x_train, axis=0, with_mean=True, with_std=True, copy=True)\n",
    "x_test_scaled=scale(x_test, axis=0, with_mean=True, with_std=True, copy=True)\n",
    "\n",
    "addBias=np.ones([x_train_scaled.shape[0],1])\n",
    "x_train_scaled=np.append(addBias,x_train_scaled,axis=1)\n",
    "\n",
    "addBias=np.ones([x_test_scaled.shape[0],1])\n",
    "x_test_scaled=np.append(addBias,x_test_scaled,axis=1)"
   ]
  },
  {
   "cell_type": "code",
   "execution_count": 113,
   "metadata": {},
   "outputs": [
    {
     "name": "stdout",
     "output_type": "stream",
     "text": [
      "lambda -5.00, MSE 2954.8453582534917\n",
      "lambda -4.00, MSE 2954.0260421745616\n",
      "lambda -3.00, MSE 2950.2313863498853\n",
      "lambda -2.00, MSE 2954.2762191551983\n",
      "lambda -1.00, MSE 2951.3093857564345\n",
      "lambda 0.00, MSE 2952.2943199875726\n",
      "lambda 1.00, MSE 2945.7783340804344\n"
     ]
    }
   ],
   "source": [
    "reg_list = [1e-5, 1e-4, 1e-3, 1e-2, 1e-1, 1, 10]\n",
    "MSE_list = []\n",
    "for i in reg_list:\n",
    "    Weights = GradDesc(x_train_scaled, y_train, reg=i)\n",
    "    Loss = MSE(y_test, x_test_scaled, Weights)\n",
    "    MSE_list.append(Loss)\n",
    "    print(\"lambda %.2f, MSE %s\" % (math.log(i, 10), Loss))"
   ]
  },
  {
   "cell_type": "code",
   "execution_count": 110,
   "metadata": {},
   "outputs": [
    {
     "data": {
      "text/plain": [
       "<BarContainer object of 7 artists>"
      ]
     },
     "execution_count": 110,
     "metadata": {},
     "output_type": "execute_result"
    },
    {
     "data": {
      "image/png": "[encoded data removed]",
      "text/plain": [
       "<Figure size 432x288 with 1 Axes>"
      ]
     },
     "metadata": {
      "needs_background": "light"
     },
     "output_type": "display_data"
    }
   ],
   "source": [
    "str_list = []\n",
    "for i in reg_list:\n",
    "    str_list.append(\"%.2f\"%math.log(i, 10))\n",
    "    \n",
    "plt.bar(str_list, MSE_list)"
   ]
  },
  {
   "cell_type": "code",
   "execution_count": 114,
   "metadata": {},
   "outputs": [
    {
     "name": "stdout",
     "output_type": "stream",
     "text": [
      "lambda -5.00, MSE 4046.6167872401747\n",
      "lambda -4.00, MSE 4039.8161475260304\n",
      "lambda -3.00, MSE 4042.4238523784784\n",
      "lambda -2.00, MSE 4044.3277739072532\n",
      "lambda -1.00, MSE 4036.9773582876587\n",
      "lambda 0.00, MSE 4015.0803666796373\n",
      "lambda 1.00, MSE 3856.387777987378\n"
     ]
    }
   ],
   "source": [
    "kf = KFold(n_splits=5)\n",
    "\n",
    "Mean_MSE_list = []\n",
    "for i in reg_list:\n",
    "\n",
    "    Loss_list = []\n",
    "    for train_index, test_index in kf.split(x_train_scaled):\n",
    "        x_train_set = x_train_scaled[train_index, :]\n",
    "        y_train_set = y_train[train_index, :]\n",
    "\n",
    "        Weights = GradDesc(x_train_set, y_train_set, reg=i)\n",
    "\n",
    "        x_test_set = x_train_scaled[test_index, :]\n",
    "        y_test_set = y_train[test_index, :]\n",
    "\n",
    "        Loss = MSE(y_test_set, x_test_set, Weights)\n",
    "        Loss_list.append(Loss)\n",
    "    \n",
    "    mean_loss = np.mean(Loss_list)\n",
    "    Mean_MSE_list.append(mean_loss)\n",
    "    print(\"lambda %.2f, MSE %s\" % (math.log(i, 10), mean_loss))"
   ]
  },
  {
   "cell_type": "code",
   "execution_count": 111,
   "metadata": {},
   "outputs": [
    {
     "data": {
      "text/plain": [
       "<BarContainer object of 7 artists>"
      ]
     },
     "execution_count": 111,
     "metadata": {},
     "output_type": "execute_result"
    },
    {
     "data": {
      "image/png": "[encoded data removed]",
      "text/plain": [
       "<Figure size 432x288 with 1 Axes>"
      ]
     },
     "metadata": {
      "needs_background": "light"
     },
     "output_type": "display_data"
    }
   ],
   "source": [
    "plt.bar(str_list, Mean_MSE_list)"
   ]
  }
 ],
 "metadata": {
  "kernelspec": {
   "display_name": "Python 3",
   "language": "python",
   "name": "python3"
  },
  "language_info": {
   "codemirror_mode": {
    "name": "ipython",
    "version": 3
   },
   "file_extension": ".py",
   "mimetype": "text/x-python",
   "name": "python",
   "nbconvert_exporter": "python",
   "pygments_lexer": "ipython3",
   "version": "3.7.6"
  }
 },
 "nbformat": 4,
 "nbformat_minor": 4
}
